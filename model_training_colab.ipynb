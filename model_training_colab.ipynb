{
  "nbformat": 4,
  "nbformat_minor": 5,
  "metadata": {
    "kernelspec": {
      "display_name": "Python 3",
      "language": "python",
      "name": "python3"
    },
    "language_info": {
      "codemirror_mode": {
        "name": "ipython",
        "version": 3
      },
      "file_extension": ".py",
      "mimetype": "text/x-python",
      "name": "python",
      "nbconvert_exporter": "python",
      "pygments_lexer": "ipython3",
      "version": "3.8.5"
    },
    "colab": {
      "name": "model_training.ipynb",
      "provenance": [],
      "collapsed_sections": []
    },
    "accelerator": "GPU"
  },
  "cells": [
    {
      "cell_type": "markdown",
      "metadata": {
        "id": "jewish-shame"
      },
      "source": [
        "# Model Training Notebook on Colab"
      ],
      "id": "jewish-shame"
    },
    {
      "cell_type": "code",
      "metadata": {
        "colab": {
          "base_uri": "https://localhost:8080/"
        },
        "id": "executed-cotton",
        "outputId": "62604cc6-704a-4a86-83e0-63af0461063c"
      },
      "source": [
        "%matplotlib inline\n",
        "import sys\n",
        "import pandas as pd\n",
        "import matplotlib.pyplot as plt\n",
        "import matplotlib.patches as patches\n",
        "import numpy as np\n",
        "from datetime import datetime\n",
        "from IPython.core.display import display, HTML\n",
        "import cv2\n",
        "from PIL import Image\n",
        "from pathlib import Path\n",
        "import torchvision\n",
        "import torch\n",
        "import torch.nn as nn\n",
        "import torch.nn.functional as F\n",
        "import ast\n",
        "\n",
        "from sklearn.model_selection import train_test_split\n",
        "\n",
        "# repeatable functions housed in the utils file and imported here\n",
        "\n",
        "# us this if you're using Colab\n",
        "sys.path.insert(1, './drive/MyDrive/OMSCS/CS7643-Final-Project')\n",
        "from utils import *\n",
        "from model_training_utils import train as training_loop\n",
        "from model_training_utils import validate as validation_loop\n",
        "from model_training_utils import hp_grid_search\n",
        "from models import CNN, YOLO, VGG, SimpleVGG\n",
        "\n",
        "print(torch.cuda.is_available())"
      ],
      "id": "executed-cotton",
      "execution_count": 1,
      "outputs": [
        {
          "output_type": "stream",
          "text": [
            "True\n"
          ],
          "name": "stdout"
        }
      ]
    },
    {
      "cell_type": "markdown",
      "metadata": {
        "id": "thrown-mills"
      },
      "source": [
        "## Create Training and Validation Datasets"
      ],
      "id": "thrown-mills"
    },
    {
      "cell_type": "code",
      "metadata": {
        "id": "JhySgnBM0ZFg"
      },
      "source": [
        "df= pd.read_csv('/content/drive/MyDrive/OMSCS/CS7643-Final-Project/datasets/annotations_final.csv', converters= {'new_bb': from_np_array})\n",
        "df['colab_path']= \"/content/drive/MyDrive/OMSCS/CS7643-Final-Project/\"+df['new_path']"
      ],
      "id": "JhySgnBM0ZFg",
      "execution_count": 2,
      "outputs": []
    },
    {
      "cell_type": "code",
      "metadata": {
        "scrolled": true,
        "colab": {
          "base_uri": "https://localhost:8080/"
        },
        "id": "median-fortune",
        "outputId": "aebe87ea-fb16-41ef-d553-ad9801e44c11"
      },
      "source": [
        "df_train = df.reset_index()\n",
        "X = df_train[['colab_path','new_bb']]\n",
        "Y = df_train['class']\n",
        "X_train, X_val, y_train, y_val = train_test_split(X, Y, test_size=0.15, random_state=42)\n",
        "\n",
        "print('Number of training observations: ', X_train.shape[0])\n",
        "print('Number of validation observations: ', X_val.shape[0])"
      ],
      "id": "median-fortune",
      "execution_count": 3,
      "outputs": [
        {
          "output_type": "stream",
          "text": [
            "Number of training observations:  292\n",
            "Number of validation observations:  52\n"
          ],
          "name": "stdout"
        }
      ]
    },
    {
      "cell_type": "markdown",
      "metadata": {
        "id": "offshore-beast"
      },
      "source": [
        "# Train the Model\n",
        "\n",
        "\n",
        "- Structured similarly to main.py file from pytorch part of A2"
      ],
      "id": "offshore-beast"
    },
    {
      "cell_type": "code",
      "metadata": {
        "id": "fitted-power"
      },
      "source": [
        "## Define Hyperparameters -- Currently setting values that we can modify\n",
        "loss_type = \"l1\"\n",
        "learning_rate = 0.0001\n",
        "momentum = 0.9\n",
        "reg = 1e-2\n",
        "\n",
        "training_batch_size= 25\n",
        "validation_batch_size= 25\n",
        "\n",
        "model_type= \"SimpleVGG\""
      ],
      "id": "fitted-power",
      "execution_count": 4,
      "outputs": []
    },
    {
      "cell_type": "code",
      "metadata": {
        "colab": {
          "base_uri": "https://localhost:8080/"
        },
        "id": "quantitative-soundtrack",
        "outputId": "af9f6e5c-8c11-406d-eb5b-5ef5a10e7e51"
      },
      "source": [
        "if loss_type == \"l1\":\n",
        "    criterion = nn.L1Loss()\n",
        "    \n",
        "if loss_type == \"l2\":\n",
        "    criterion = nn.MSELoss()\n",
        "\n",
        "if model_type== \"SimpleCNN\":\n",
        "    model= CNN()\n",
        "elif model_type == \"YOLO\":\n",
        "    model = YOLO()  \n",
        "elif model_type == \"VGG\":\n",
        "    model = VGG()\n",
        "elif model_type == \"SimpleVGG\":\n",
        "    model = SimpleVGG()\n",
        "\n",
        "if torch.cuda.is_available():\n",
        "    model.cuda()\n",
        "\n",
        "#if using colab\n",
        "train_ds = WaldoDataset(X_train['colab_path'], X_train['new_bb'], y_train)\n",
        "valid_ds= WaldoDataset(X_val['colab_path'], X_val['new_bb'], y_val)\n",
        "\n",
        "train_dl = DataLoader(train_ds, batch_size=training_batch_size, shuffle=True)\n",
        "valid_dl = DataLoader(valid_ds, batch_size=validation_batch_size)\n",
        "\n",
        "optimizer = torch.optim.SGD(model.parameters(), learning_rate,\n",
        "                            momentum=momentum,\n",
        "                            weight_decay=reg)\n",
        "\n",
        "print('The model type is: ', model_type)"
      ],
      "id": "quantitative-soundtrack",
      "execution_count": 5,
      "outputs": [
        {
          "output_type": "stream",
          "text": [
            "The model type is:  SimpleVGG\n"
          ],
          "name": "stdout"
        }
      ]
    },
    {
      "cell_type": "code",
      "metadata": {
        "scrolled": true,
        "colab": {
          "base_uri": "https://localhost:8080/"
        },
        "id": "engaged-cabin",
        "outputId": "ee0467fa-6822-4940-fc28-216b3721fb24"
      },
      "source": [
        "train_loss, val_loss= training_loop(model= model, \n",
        "                                    optimizer = optimizer, \n",
        "                                    train_dl= train_dl, \n",
        "                                    valid_dl=valid_dl, \n",
        "                                    epochs= 60, \n",
        "                                    criterion= criterion, \n",
        "                                    verbose= True, \n",
        "                                    return_loss= True)"
      ],
      "id": "engaged-cabin",
      "execution_count": 6,
      "outputs": [
        {
          "output_type": "stream",
          "text": [
            "./drive/MyDrive/OMSCS/CS7643-Final-Project/model_training_utils.py:32: UserWarning: To copy construct from a tensor, it is recommended to use sourceTensor.clone().detach() or sourceTensor.clone().detach().requires_grad_(True), rather than torch.tensor(sourceTensor).\n",
            "  y_bb= torch.tensor(y_bb)\n"
          ],
          "name": "stderr"
        },
        {
          "output_type": "stream",
          "text": [
            " \n",
            "--------------------------------------------------------\n",
            "Training Loss for Epoch 0: 176.31875610351562\n"
          ],
          "name": "stdout"
        },
        {
          "output_type": "stream",
          "text": [
            "./drive/MyDrive/OMSCS/CS7643-Final-Project/model_training_utils.py:75: UserWarning: To copy construct from a tensor, it is recommended to use sourceTensor.clone().detach() or sourceTensor.clone().detach().requires_grad_(True), rather than torch.tensor(sourceTensor).\n",
            "  y_bb= torch.tensor(y_bb)\n"
          ],
          "name": "stderr"
        },
        {
          "output_type": "stream",
          "text": [
            "Validation Loss for Epoch 0: 360.4029006958008\n",
            " \n",
            "--------------------------------------------------------\n",
            "Training Loss for Epoch 1: 134.26259478400735\n",
            "Validation Loss for Epoch 1: 200.52122497558594\n",
            " \n",
            "--------------------------------------------------------\n",
            "Training Loss for Epoch 2: 98.51733488195083\n",
            "Validation Loss for Epoch 2: 207.55311584472656\n",
            " \n",
            "--------------------------------------------------------\n",
            "Training Loss for Epoch 3: 99.1114304486443\n",
            "Validation Loss for Epoch 3: 219.8430404663086\n",
            " \n",
            "--------------------------------------------------------\n",
            "Training Loss for Epoch 4: 91.09943524528953\n",
            "Validation Loss for Epoch 4: 199.3432273864746\n",
            " \n",
            "--------------------------------------------------------\n",
            "Training Loss for Epoch 5: 89.09385322122013\n",
            "Validation Loss for Epoch 5: 211.10164642333984\n",
            " \n",
            "--------------------------------------------------------\n",
            "Training Loss for Epoch 6: 88.02634160658893\n",
            "Validation Loss for Epoch 6: 206.0279998779297\n",
            " \n",
            "--------------------------------------------------------\n",
            "Training Loss for Epoch 7: 88.06876866957721\n",
            "Validation Loss for Epoch 7: 197.09237670898438\n",
            " \n",
            "--------------------------------------------------------\n",
            "Training Loss for Epoch 8: 87.37617672190947\n",
            "Validation Loss for Epoch 8: 205.34961700439453\n",
            " \n",
            "--------------------------------------------------------\n",
            "Training Loss for Epoch 9: 88.79773532643037\n",
            "Validation Loss for Epoch 9: 201.92786026000977\n",
            " \n",
            "--------------------------------------------------------\n",
            "Training Loss for Epoch 10: 88.04656937543083\n",
            "Validation Loss for Epoch 10: 203.52727508544922\n",
            " \n",
            "--------------------------------------------------------\n",
            "Training Loss for Epoch 11: 90.14601808435776\n",
            "Validation Loss for Epoch 11: 204.7949981689453\n",
            " \n",
            "--------------------------------------------------------\n",
            "Training Loss for Epoch 12: 87.58986977969899\n",
            "Validation Loss for Epoch 12: 199.88963317871094\n",
            " \n",
            "--------------------------------------------------------\n",
            "Training Loss for Epoch 13: 87.0645487168256\n",
            "Validation Loss for Epoch 13: 199.70052337646484\n",
            " \n",
            "--------------------------------------------------------\n",
            "Training Loss for Epoch 14: 86.67902284509995\n",
            "Validation Loss for Epoch 14: 208.10011291503906\n",
            " \n",
            "--------------------------------------------------------\n",
            "Training Loss for Epoch 15: 87.7838498283835\n",
            "Validation Loss for Epoch 15: 206.08980178833008\n",
            " \n",
            "--------------------------------------------------------\n",
            "Training Loss for Epoch 16: 92.72626674876494\n",
            "Validation Loss for Epoch 16: 204.90704345703125\n",
            " \n",
            "--------------------------------------------------------\n",
            "Training Loss for Epoch 17: 87.74813034955193\n",
            "Validation Loss for Epoch 17: 208.34030532836914\n",
            " \n",
            "--------------------------------------------------------\n",
            "Training Loss for Epoch 18: 86.66919259464039\n",
            "Validation Loss for Epoch 18: 198.7705841064453\n",
            " \n",
            "--------------------------------------------------------\n",
            "Training Loss for Epoch 19: 89.16679920869716\n",
            "Validation Loss for Epoch 19: 211.71741104125977\n",
            " \n",
            "--------------------------------------------------------\n",
            "Training Loss for Epoch 20: 88.39303588867188\n",
            "Validation Loss for Epoch 20: 219.11752700805664\n",
            " \n",
            "--------------------------------------------------------\n",
            "Training Loss for Epoch 21: 88.7935952579274\n",
            "Validation Loss for Epoch 21: 209.5236587524414\n",
            " \n",
            "--------------------------------------------------------\n",
            "Training Loss for Epoch 22: 86.8907834221335\n",
            "Validation Loss for Epoch 22: 213.4372100830078\n",
            " \n",
            "--------------------------------------------------------\n",
            "Training Loss for Epoch 23: 86.54033526252297\n",
            "Validation Loss for Epoch 23: 208.30682373046875\n",
            " \n",
            "--------------------------------------------------------\n",
            "Training Loss for Epoch 24: 92.32530077765969\n",
            "Validation Loss for Epoch 24: 243.1023712158203\n",
            " \n",
            "--------------------------------------------------------\n",
            "Training Loss for Epoch 25: 93.73294875201057\n",
            "Validation Loss for Epoch 25: 237.71239852905273\n",
            " \n",
            "--------------------------------------------------------\n",
            "Training Loss for Epoch 26: 90.59855562097886\n",
            "Validation Loss for Epoch 26: 209.49644470214844\n",
            " \n",
            "--------------------------------------------------------\n",
            "Training Loss for Epoch 27: 85.63713702033547\n",
            "Validation Loss for Epoch 27: 202.67958068847656\n",
            " \n",
            "--------------------------------------------------------\n",
            "Training Loss for Epoch 28: 85.76479608872357\n",
            "Validation Loss for Epoch 28: 202.97588348388672\n",
            " \n",
            "--------------------------------------------------------\n",
            "Training Loss for Epoch 29: 85.2825568704044\n",
            "Validation Loss for Epoch 29: 206.6663703918457\n",
            " \n",
            "--------------------------------------------------------\n",
            "Training Loss for Epoch 30: 86.5072250366211\n",
            "Validation Loss for Epoch 30: 204.64946746826172\n",
            " \n",
            "--------------------------------------------------------\n",
            "Training Loss for Epoch 31: 85.13349241368911\n",
            "Validation Loss for Epoch 31: 202.1629638671875\n",
            " \n",
            "--------------------------------------------------------\n",
            "Training Loss for Epoch 32: 84.63660206514247\n",
            "Validation Loss for Epoch 32: 198.81491088867188\n",
            " \n",
            "--------------------------------------------------------\n",
            "Training Loss for Epoch 33: 85.73832702636719\n",
            "Validation Loss for Epoch 33: 197.0702018737793\n",
            " \n",
            "--------------------------------------------------------\n",
            "Training Loss for Epoch 34: 83.04498291015625\n",
            "Validation Loss for Epoch 34: 205.63248825073242\n",
            " \n",
            "--------------------------------------------------------\n",
            "Training Loss for Epoch 35: 82.66930658677045\n",
            "Validation Loss for Epoch 35: 203.46332550048828\n",
            " \n",
            "--------------------------------------------------------\n",
            "Training Loss for Epoch 36: 82.73089554730583\n",
            "Validation Loss for Epoch 36: 199.83351135253906\n",
            " \n",
            "--------------------------------------------------------\n",
            "Training Loss for Epoch 37: 80.5025993795956\n",
            "Validation Loss for Epoch 37: 212.08784103393555\n",
            " \n",
            "--------------------------------------------------------\n",
            "Training Loss for Epoch 38: 84.57707977294922\n",
            "Validation Loss for Epoch 38: 196.06268310546875\n",
            " \n",
            "--------------------------------------------------------\n",
            "Training Loss for Epoch 39: 80.91327846751494\n",
            "Validation Loss for Epoch 39: 191.5183868408203\n",
            " \n",
            "--------------------------------------------------------\n",
            "Training Loss for Epoch 40: 78.81927804385914\n",
            "Validation Loss for Epoch 40: 208.55402755737305\n",
            " \n",
            "--------------------------------------------------------\n",
            "Training Loss for Epoch 41: 76.13130906048943\n",
            "Validation Loss for Epoch 41: 200.89343643188477\n",
            " \n",
            "--------------------------------------------------------\n",
            "Training Loss for Epoch 42: 73.43308302935432\n",
            "Validation Loss for Epoch 42: 184.024169921875\n",
            " \n",
            "--------------------------------------------------------\n",
            "Training Loss for Epoch 43: 70.83562334846047\n",
            "Validation Loss for Epoch 43: 170.9833526611328\n",
            " \n",
            "--------------------------------------------------------\n",
            "Training Loss for Epoch 44: 70.83269635368796\n",
            "Validation Loss for Epoch 44: 178.60174560546875\n",
            " \n",
            "--------------------------------------------------------\n",
            "Training Loss for Epoch 45: 74.92466376809513\n",
            "Validation Loss for Epoch 45: 209.4018898010254\n",
            " \n",
            "--------------------------------------------------------\n",
            "Training Loss for Epoch 46: 71.15957103056066\n",
            "Validation Loss for Epoch 46: 176.1739959716797\n",
            " \n",
            "--------------------------------------------------------\n",
            "Training Loss for Epoch 47: 65.09577358470244\n",
            "Validation Loss for Epoch 47: 176.41536331176758\n",
            " \n",
            "--------------------------------------------------------\n",
            "Training Loss for Epoch 48: 61.16365769330193\n",
            "Validation Loss for Epoch 48: 165.42927932739258\n",
            " \n",
            "--------------------------------------------------------\n",
            "Training Loss for Epoch 49: 56.19025017233456\n",
            "Validation Loss for Epoch 49: 174.41392517089844\n",
            " \n",
            "--------------------------------------------------------\n",
            "Training Loss for Epoch 50: 55.34028445973116\n",
            "Validation Loss for Epoch 50: 181.27327346801758\n",
            " \n",
            "--------------------------------------------------------\n",
            "Training Loss for Epoch 51: 55.59932596543256\n",
            "Validation Loss for Epoch 51: 160.02579879760742\n",
            " \n",
            "--------------------------------------------------------\n",
            "Training Loss for Epoch 52: 51.134688657872815\n",
            "Validation Loss for Epoch 52: 158.79510116577148\n",
            " \n",
            "--------------------------------------------------------\n",
            "Training Loss for Epoch 53: 59.506316016702094\n",
            "Validation Loss for Epoch 53: 173.0081901550293\n",
            " \n",
            "--------------------------------------------------------\n",
            "Training Loss for Epoch 54: 50.674712237189794\n",
            "Validation Loss for Epoch 54: 174.59958267211914\n",
            " \n",
            "--------------------------------------------------------\n",
            "Training Loss for Epoch 55: 48.77560267728918\n",
            "Validation Loss for Epoch 55: 177.47385025024414\n",
            " \n",
            "--------------------------------------------------------\n",
            "Training Loss for Epoch 56: 50.02094268798828\n",
            "Validation Loss for Epoch 56: 180.3878936767578\n",
            " \n",
            "--------------------------------------------------------\n",
            "Training Loss for Epoch 57: 46.3935760049259\n",
            "Validation Loss for Epoch 57: 183.43500900268555\n",
            " \n",
            "--------------------------------------------------------\n",
            "Training Loss for Epoch 58: 38.373469408820654\n",
            "Validation Loss for Epoch 58: 170.0910186767578\n",
            " \n",
            "--------------------------------------------------------\n",
            "Training Loss for Epoch 59: 36.433710659251496\n",
            "Validation Loss for Epoch 59: 185.07576370239258\n"
          ],
          "name": "stdout"
        }
      ]
    },
    {
      "cell_type": "code",
      "metadata": {
        "colab": {
          "base_uri": "https://localhost:8080/",
          "height": 931
        },
        "id": "l36ydbVvtcZB",
        "outputId": "4a5f2b75-39d2-42a9-9cfb-560e7210bb81"
      },
      "source": [
        "\n",
        "save_figure=False\n",
        "print(learning_rate)\n",
        "\n",
        "hp_string= \"lr:{0}, momentum:{1}, reg:{2}\".format(learning_rate, momentum, reg)\n",
        "batch_size_string= \"training batch:{0}, validation batch:{1}\".format(training_batch_size, validation_batch_size)\n",
        "\n",
        "plt.plot(train_loss)\n",
        "plt.title('Training Loss: {0} \\n {01} \\n {2} '.format(model_type,hp_string, batch_size_string))\n",
        "plt.xlabel('Epochs')\n",
        "plt.ylabel('Loss:{}'.format(loss_type))\n",
        "if save_figure:\n",
        "  plt.savefig(\"/content/drive/MyDrive/OMSCS/CS7643-Final-Project/figures/{0}-Train-finalDS {1}.png\".format(model_type, hp_string))\n",
        "plt.show()\n",
        "\n",
        "plt.plot(val_loss)\n",
        "plt.title('Validation Loss: {0} \\n {01} \\n {2} '.format(model_type,hp_string, batch_size_string))\n",
        "plt.xlabel('Epochs')\n",
        "plt.ylabel('Loss:{}'.format(loss_type))\n",
        "if save_figure:\n",
        "  plt.savefig(\"/content/drive/MyDrive/OMSCS/CS7643-Final-Project/figures/{0}-val-finalDS {1}.png\".format(model_type,hp_string))\n",
        "plt.show()\n",
        "\n",
        "fig, ax1 = plt.subplots()\n",
        "ax1.set_xlabel('Epochs')\n",
        "ax1.set_ylabel('Training Loss', color=\"blue\")\n",
        "ax1.plot(train_loss)\n",
        "ax2 = ax1.twinx()  # instantiate a second axes that shares the same x-axis\n",
        "ax2.set_ylabel('Validation Loss', color= \"red\")  # we already handled the x-label with ax1\n",
        "ax2.plot(val_loss, color= \"red\")\n",
        "fig.tight_layout()  # otherwise the right y-label is slightly clipped\n",
        "if save_figure:\n",
        "  plt.savefig(\"/content/drive/MyDrive/OMSCS/CS7643-Final-Project/figures/{0}-Combined-finalDS {1}.png\".format(model_type, hp_string))\n",
        "plt.show()\n"
      ],
      "id": "l36ydbVvtcZB",
      "execution_count": 7,
      "outputs": [
        {
          "output_type": "stream",
          "text": [
            "0.0001\n"
          ],
          "name": "stdout"
        },
        {
          "output_type": "display_data",
          "data": {
            "image/png": "[encoded data removed]",
            "text/plain": [
              "<Figure size 432x288 with 1 Axes>"
            ]
          },
          "metadata": {
            "tags": [],
            "needs_background": "light"
          }
        },
        {
          "output_type": "display_data",
          "data": {
            "image/png": "[encoded data removed]",
            "text/plain": [
              "<Figure size 432x288 with 1 Axes>"
            ]
          },
          "metadata": {
            "tags": [],
            "needs_background": "light"
          }
        },
        {
          "output_type": "display_data",
          "data": {
            "image/png": "[encoded data removed]",
            "text/plain": [
              "<Figure size 432x288 with 2 Axes>"
            ]
          },
          "metadata": {
            "tags": [],
            "needs_background": "light"
          }
        }
      ]
    },
    {
      "cell_type": "code",
      "metadata": {
        "colab": {
          "base_uri": "https://localhost:8080/",
          "height": 488
        },
        "id": "charged-ladder",
        "outputId": "e993373e-bf56-4802-cfdc-caaf7ed98398"
      },
      "source": [
        "loss_type= [\"l1\"]\n",
        "learning_rate= [0.001,0.0001]\n",
        "momentum = [0.9]\n",
        "reg = [0.01]\n",
        "batch_size= [10]\n",
        "\n",
        "all_training_loss, all_validation_loss= hp_grid_search(model_type= \"VGG\", \n",
        "               lr_list=learning_rate, \n",
        "               momentum_list=momentum, \n",
        "               reg_list=reg, \n",
        "               batch_size_list=batch_size,\n",
        "               train_ds= train_ds,\n",
        "               valid_ds= valid_ds,\n",
        "               optimizer= optimizer, \n",
        "               loss_type_list=loss_type,\n",
        "               epochs= 10,\n",
        "               save_all_plots=\"Yes\", \n",
        "               save_final_plot=\"Yes\",\n",
        "               final_plot_prefix=\"Test\", \n",
        "               return_all_loss= True)"
      ],
      "id": "charged-ladder",
      "execution_count": 7,
      "outputs": [
        {
          "output_type": "stream",
          "text": [
            "HP ITERATION:  0\n",
            "learning_rate:  0.001\n",
            "regularization:  0.01\n",
            "momentum:  0.9\n",
            "batch_size:  10\n",
            "loss type:  l1\n",
            "VGG_0.001_0.01_0.9_10\n"
          ],
          "name": "stdout"
        },
        {
          "output_type": "error",
          "ename": "UnboundLocalError",
          "evalue": "ignored",
          "traceback": [
            "\u001b[0;31m---------------------------------------------------------------------------\u001b[0m",
            "\u001b[0;31mUnboundLocalError\u001b[0m                         Traceback (most recent call last)",
            "\u001b[0;32m<ipython-input-7-40506511072b>\u001b[0m in \u001b[0;36m<module>\u001b[0;34m()\u001b[0m\n\u001b[1;32m     18\u001b[0m                \u001b[0msave_final_plot\u001b[0m\u001b[0;34m=\u001b[0m\u001b[0;34m\"Yes\"\u001b[0m\u001b[0;34m,\u001b[0m\u001b[0;34m\u001b[0m\u001b[0;34m\u001b[0m\u001b[0m\n\u001b[1;32m     19\u001b[0m                \u001b[0mfinal_plot_prefix\u001b[0m\u001b[0;34m=\u001b[0m\u001b[0;34m\"Test\"\u001b[0m\u001b[0;34m,\u001b[0m\u001b[0;34m\u001b[0m\u001b[0;34m\u001b[0m\u001b[0m\n\u001b[0;32m---> 20\u001b[0;31m                return_all_loss= True)\n\u001b[0m",
            "\u001b[0;32m/content/drive/MyDrive/OMSCS/CS7643-Final-Project/model_training_utils.py\u001b[0m in \u001b[0;36mhp_grid_search\u001b[0;34m(model_type, lr_list, momentum_list, reg_list, batch_size_list, train_ds, valid_ds, optimizer, epochs, loss_type_list, save_all_plots, save_final_plot, final_plot_prefix, return_all_loss)\u001b[0m\n\u001b[1;32m    150\u001b[0m                         \u001b[0mvalid_dl\u001b[0m\u001b[0;34m=\u001b[0m \u001b[0mDataLoader\u001b[0m\u001b[0;34m(\u001b[0m\u001b[0mvalid_ds\u001b[0m\u001b[0;34m,\u001b[0m \u001b[0mbatch_size\u001b[0m\u001b[0;34m=\u001b[0m\u001b[0mb\u001b[0m\u001b[0;34m)\u001b[0m\u001b[0;34m\u001b[0m\u001b[0;34m\u001b[0m\u001b[0m\n\u001b[1;32m    151\u001b[0m \u001b[0;34m\u001b[0m\u001b[0m\n\u001b[0;32m--> 152\u001b[0;31m                         \u001b[0moptimizer\u001b[0m \u001b[0;34m=\u001b[0m \u001b[0mtorch\u001b[0m\u001b[0;34m.\u001b[0m\u001b[0moptim\u001b[0m\u001b[0;34m.\u001b[0m\u001b[0mSGD\u001b[0m\u001b[0;34m(\u001b[0m\u001b[0mmodel\u001b[0m\u001b[0;34m.\u001b[0m\u001b[0mparameters\u001b[0m\u001b[0;34m(\u001b[0m\u001b[0;34m)\u001b[0m\u001b[0;34m,\u001b[0m \u001b[0mlr\u001b[0m\u001b[0;34m,\u001b[0m \u001b[0mmomentum\u001b[0m\u001b[0;34m=\u001b[0m\u001b[0mm\u001b[0m\u001b[0;34m,\u001b[0m \u001b[0mweight_decay\u001b[0m\u001b[0;34m=\u001b[0m\u001b[0mr\u001b[0m\u001b[0;34m)\u001b[0m\u001b[0;34m\u001b[0m\u001b[0;34m\u001b[0m\u001b[0m\n\u001b[0m\u001b[1;32m    153\u001b[0m \u001b[0;34m\u001b[0m\u001b[0m\n\u001b[1;32m    154\u001b[0m                         \u001b[0mtrain_loss\u001b[0m\u001b[0;34m,\u001b[0m \u001b[0mvalid_loss\u001b[0m\u001b[0;34m=\u001b[0m \u001b[0mtrain\u001b[0m\u001b[0;34m(\u001b[0m\u001b[0mmodel\u001b[0m\u001b[0;34m=\u001b[0m \u001b[0mmodel\u001b[0m\u001b[0;34m,\u001b[0m\u001b[0moptimizer\u001b[0m\u001b[0;34m=\u001b[0m \u001b[0moptimizer\u001b[0m\u001b[0;34m,\u001b[0m\u001b[0mtrain_dl\u001b[0m\u001b[0;34m=\u001b[0m \u001b[0mtrain_dl\u001b[0m\u001b[0;34m,\u001b[0m \u001b[0mvalid_dl\u001b[0m\u001b[0;34m=\u001b[0m \u001b[0mvalid_dl\u001b[0m\u001b[0;34m,\u001b[0m \u001b[0mepochs\u001b[0m\u001b[0;34m=\u001b[0m \u001b[0mepochs\u001b[0m\u001b[0;34m,\u001b[0m \u001b[0mcriterion\u001b[0m\u001b[0;34m=\u001b[0m \u001b[0mcriterion\u001b[0m\u001b[0;34m,\u001b[0m \u001b[0mreturn_loss\u001b[0m\u001b[0;34m=\u001b[0m \u001b[0;32mTrue\u001b[0m\u001b[0;34m,\u001b[0m\u001b[0mplot\u001b[0m\u001b[0;34m=\u001b[0m \u001b[0;32mTrue\u001b[0m\u001b[0;34m,\u001b[0m\u001b[0mverbose\u001b[0m\u001b[0;34m=\u001b[0m \u001b[0;32mTrue\u001b[0m\u001b[0;34m)\u001b[0m\u001b[0;34m\u001b[0m\u001b[0;34m\u001b[0m\u001b[0m\n",
            "\u001b[0;31mUnboundLocalError\u001b[0m: local variable 'model' referenced before assignment"
          ]
        }
      ]
    },
    {
      "cell_type": "code",
      "metadata": {
        "id": "bigger-specification"
      },
      "source": [
        ""
      ],
      "id": "bigger-specification",
      "execution_count": null,
      "outputs": []
    },
    {
      "cell_type": "code",
      "metadata": {
        "id": "0vCCbnHEtbQJ"
      },
      "source": [
        ""
      ],
      "id": "0vCCbnHEtbQJ",
      "execution_count": null,
      "outputs": []
    }
  ]
}