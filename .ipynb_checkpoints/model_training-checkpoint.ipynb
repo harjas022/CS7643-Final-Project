{
 "cells": [
  {
   "cell_type": "markdown",
   "id": "concerned-undergraduate",
   "metadata": {},
   "source": [
    "# Model Training Notebook"
   ]
  },
  {
   "cell_type": "code",
   "execution_count": 1,
   "id": "employed-trainer",
   "metadata": {},
   "outputs": [],
   "source": [
    "%matplotlib inline\n",
    "import sys\n",
    "import pandas as pd\n",
    "import matplotlib.pyplot as plt\n",
    "import matplotlib.patches as patches\n",
    "import numpy as np\n",
    "from datetime import datetime\n",
    "from IPython.core.display import display, HTML\n",
    "import cv2\n",
    "from PIL import Image\n",
    "from pathlib import Path\n",
    "import torchvision\n",
    "import torch\n",
    "import torch.nn as nn\n",
    "import torch.nn.functional as F\n",
    "import ast\n",
    "\n",
    "from sklearn.model_selection import train_test_split\n",
    "\n",
    "# repeatable functions housed in the utils file and imported here\n",
    "from utils import *\n",
    "from models import CNN"
   ]
  },
  {
   "cell_type": "markdown",
   "id": "moved-economics",
   "metadata": {},
   "source": [
    "## Create Training and Validation Datasets"
   ]
  },
  {
   "cell_type": "code",
   "execution_count": 2,
   "id": "yellow-campus",
   "metadata": {},
   "outputs": [],
   "source": [
    "df= pd.read_csv('./datasets/annotations_map.csv', converters={'new_bb': from_np_array})"
   ]
  },
  {
   "cell_type": "code",
   "execution_count": 3,
   "id": "useful-living",
   "metadata": {},
   "outputs": [
    {
     "name": "stdout",
     "output_type": "stream",
     "text": [
      "Number of training observations:  32\n",
      "Number of validation observations:  11\n"
     ]
    }
   ],
   "source": [
    "df_train = df.reset_index()\n",
    "X = df_train[['new_path','new_bb']]\n",
    "Y = df_train['class']\n",
    "X_train, X_val, y_train, y_val = train_test_split(X, Y, test_size=0.25, random_state=42)\n",
    "print('Number of training observations: ', X_train.shape[0])\n",
    "print('Number of validation observations: ', X_val.shape[0])"
   ]
  },
  {
   "cell_type": "markdown",
   "id": "proof-north",
   "metadata": {},
   "source": [
    "## Build RCNN"
   ]
  },
  {
   "cell_type": "code",
   "execution_count": null,
   "id": "amended-brother",
   "metadata": {},
   "outputs": [],
   "source": []
  },
  {
   "cell_type": "markdown",
   "id": "becoming-security",
   "metadata": {},
   "source": [
    "## Build YOLO"
   ]
  },
  {
   "cell_type": "code",
   "execution_count": null,
   "id": "wireless-helen",
   "metadata": {},
   "outputs": [],
   "source": []
  },
  {
   "cell_type": "markdown",
   "id": "threaded-snake",
   "metadata": {},
   "source": [
    "# Train the Model\n",
    "\n",
    "\n",
    "- Structured similarly to main.py file from pytorch part of A2"
   ]
  },
  {
   "cell_type": "code",
   "execution_count": 4,
   "id": "alive-monster",
   "metadata": {},
   "outputs": [],
   "source": [
    "## Define Hyperparameters -- Currently setting values that we can modify\n",
    "loss_type = \"l1\"\n",
    "learning_rate = 1e-5\n",
    "momentum = 0.9\n",
    "reg = 1e-3\n",
    "batch_size = 10\n",
    "model= \"SimpleCNN\""
   ]
  },
  {
   "cell_type": "code",
   "execution_count": 5,
   "id": "alternate-hunter",
   "metadata": {},
   "outputs": [],
   "source": [
    "if loss_type == \"l1\":\n",
    "    criterion = nn.L1Loss()\n",
    "    \n",
    "if loss_type == \"l2\":\n",
    "    criterion = nn.MSELoss()\n",
    "    \n",
    "if model== \"SimpleCNN\":\n",
    "    model= CNN()\n",
    "    \n",
    "train_ds = WaldoDataset(X_train['new_path'],X_train['new_bb'] ,y_train)\n",
    "valid_ds = WaldoDataset(X_val['new_path'],X_val['new_bb'],y_val)\n",
    "\n",
    "train_dl = DataLoader(train_ds, batch_size=batch_size, shuffle=True)\n",
    "valid_dl = DataLoader(valid_ds, batch_size=batch_size)\n",
    "\n",
    "optimizer = torch.optim.SGD(model.parameters(), learning_rate,\n",
    "                            momentum=momentum,\n",
    "                            weight_decay=reg)"
   ]
  },
  {
   "cell_type": "code",
   "execution_count": 20,
   "id": "insured-swimming",
   "metadata": {},
   "outputs": [],
   "source": [
    "def train(model, optimizer, train_dl, valid_dl, epochs=10):\n",
    "    idx = 0\n",
    "    model= model.float()\n",
    "    validation_loss_list= []\n",
    "    training_loss_list= []\n",
    "    for i in range(epochs):\n",
    "        model.train()\n",
    "        sum_loss = 0\n",
    "        for x, y_bb in train_dl:\n",
    "            x= x.float()\n",
    "            out_bb = model(x)\n",
    "            y_bb = torch.tensor(y_bb)\n",
    "            loss= criterion(out_bb, y_bb)\n",
    "            optimizer.zero_grad()\n",
    "            loss.backward()\n",
    "            optimizer.step()\n",
    "            idx += 1\n",
    "            sum_loss += loss.item()\n",
    "        train_loss = sum_loss\n",
    "        print(\" \")\n",
    "        print(\"--------------------------------------------------------\")\n",
    "        print(\"Training Loss for Epoch {0}: {1}\".format(i,train_loss))\n",
    "        valid_loss= validation_loss = validate(model= model, valid_dl= valid_dl, epoch= i)\n",
    "        training_loss_list.append(train_loss)\n",
    "        validation_loss_list.append(valid_loss)\n",
    "    \n",
    "    #plot loss curves\n",
    "    plt.plot(training_loss_list)\n",
    "    plt.title('Training Loss')\n",
    "    plt.show()\n",
    "    \n",
    "    plt.plot(validation_loss_list)\n",
    "    plt.title('Validation Loss')\n",
    "    plt.show()\n",
    "        \n",
    "        \n",
    "def validate(model, valid_dl, epoch):\n",
    "    idx= 0\n",
    "    model= model.float()\n",
    "    sum_loss= 0\n",
    "    for x, y_bb in valid_dl:\n",
    "        x= x.float()\n",
    "        out_bb= model(x)\n",
    "        y_bb= torch.tensor(y_bb)\n",
    "        loss= criterion(out_bb, y_bb)\n",
    "        idx += 1\n",
    "        sum_loss += loss.item()\n",
    "    validation_loss= sum_loss\n",
    "    print(\"Validation Loss for Epoch {0}: {1}\".format(epoch, validation_loss))\n",
    "    return validation_loss"
   ]
  },
  {
   "cell_type": "code",
   "execution_count": 21,
   "id": "nutritional-candy",
   "metadata": {},
   "outputs": [
    {
     "name": "stderr",
     "output_type": "stream",
     "text": [
      "<ipython-input-20-9c9f2ecce5ee>:12: UserWarning: To copy construct from a tensor, it is recommended to use sourceTensor.clone().detach() or sourceTensor.clone().detach().requires_grad_(True), rather than torch.tensor(sourceTensor).\n",
      "  y_bb = torch.tensor(y_bb)\n"
     ]
    },
    {
     "name": "stdout",
     "output_type": "stream",
     "text": [
      " \n",
      "--------------------------------------------------------\n",
      "Training Loss for Epoch 0: 768.83642578125\n"
     ]
    },
    {
     "name": "stderr",
     "output_type": "stream",
     "text": [
      "<ipython-input-20-9c9f2ecce5ee>:42: UserWarning: To copy construct from a tensor, it is recommended to use sourceTensor.clone().detach() or sourceTensor.clone().detach().requires_grad_(True), rather than torch.tensor(sourceTensor).\n",
      "  y_bb= torch.tensor(y_bb)\n"
     ]
    },
    {
     "name": "stdout",
     "output_type": "stream",
     "text": [
      "Validation Loss for Epoch 0: 351.2585754394531\n",
      " \n",
      "--------------------------------------------------------\n",
      "Training Loss for Epoch 1: 784.2094879150391\n",
      "Validation Loss for Epoch 1: 348.98095703125\n",
      " \n",
      "--------------------------------------------------------\n",
      "Training Loss for Epoch 2: 798.2935485839844\n",
      "Validation Loss for Epoch 2: 346.4480743408203\n",
      " \n",
      "--------------------------------------------------------\n",
      "Training Loss for Epoch 3: 871.77294921875\n",
      "Validation Loss for Epoch 3: 343.6690673828125\n",
      " \n",
      "--------------------------------------------------------\n",
      "Training Loss for Epoch 4: 785.5209350585938\n",
      "Validation Loss for Epoch 4: 340.6083068847656\n",
      " \n",
      "--------------------------------------------------------\n",
      "Training Loss for Epoch 5: 857.9520263671875\n",
      "Validation Loss for Epoch 5: 337.23529052734375\n",
      " \n",
      "--------------------------------------------------------\n",
      "Training Loss for Epoch 6: 774.1537628173828\n",
      "Validation Loss for Epoch 6: 333.5447692871094\n",
      " \n",
      "--------------------------------------------------------\n",
      "Training Loss for Epoch 7: 765.3466033935547\n",
      "Validation Loss for Epoch 7: 329.49964904785156\n",
      " \n",
      "--------------------------------------------------------\n",
      "Training Loss for Epoch 8: 756.8610992431641\n",
      "Validation Loss for Epoch 8: 325.10128021240234\n",
      " \n",
      "--------------------------------------------------------\n",
      "Training Loss for Epoch 9: 750.5448455810547\n",
      "Validation Loss for Epoch 9: 320.28045654296875\n"
     ]
    },
    {
     "data": {
      "image/png": "[encoded data removed]",
      "text/plain": [
       "<Figure size 432x288 with 1 Axes>"
      ]
     },
     "metadata": {
      "needs_background": "light"
     },
     "output_type": "display_data"
    },
    {
     "data": {
      "image/png": "[encoded data removed]",
      "text/plain": [
       "<Figure size 432x288 with 1 Axes>"
      ]
     },
     "metadata": {
      "needs_background": "light"
     },
     "output_type": "display_data"
    }
   ],
   "source": [
    "train(model= model, optimizer= optimizer, train_dl= train_dl, valid_dl=valid_dl, epochs= 10)"
   ]
  },
  {
   "cell_type": "code",
   "execution_count": null,
   "id": "exclusive-desire",
   "metadata": {},
   "outputs": [],
   "source": []
  }
 ],
 "metadata": {
  "kernelspec": {
   "display_name": "Python 3",
   "language": "python",
   "name": "python3"
  },
  "language_info": {
   "codemirror_mode": {
    "name": "ipython",
    "version": 3
   },
   "file_extension": ".py",
   "mimetype": "text/x-python",
   "name": "python",
   "nbconvert_exporter": "python",
   "pygments_lexer": "ipython3",
   "version": "3.8.5"
  }
 },
 "nbformat": 4,
 "nbformat_minor": 5
}
