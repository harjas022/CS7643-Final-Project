{
 "cells": [
  {
   "cell_type": "markdown",
   "id": "front-trail",
   "metadata": {},
   "source": [
    "# Model Training Notebook"
   ]
  },
  {
   "cell_type": "code",
   "execution_count": 3,
   "id": "protecting-antenna",
   "metadata": {},
   "outputs": [],
   "source": [
    "%matplotlib inline\n",
    "import sys\n",
    "import pandas as pd\n",
    "import matplotlib.pyplot as plt\n",
    "import matplotlib.patches as patches\n",
    "import numpy as np\n",
    "from datetime import datetime\n",
    "from IPython.core.display import display, HTML\n",
    "import cv2\n",
    "from PIL import Image\n",
    "from pathlib import Path\n",
    "import torchvision\n",
    "import torch\n",
    "import torch.nn as nn\n",
    "import torch.nn.functional as F\n",
    "import ast\n",
    "\n",
    "from sklearn.model_selection import train_test_split\n",
    "\n",
    "# repeatable functions housed in the utils file and imported here\n",
    "from utils import *\n",
    "from models import CNN"
   ]
  },
  {
   "cell_type": "markdown",
   "id": "amazing-being",
   "metadata": {},
   "source": [
    "## Create Training and Validation Datasets"
   ]
  },
  {
   "cell_type": "code",
   "execution_count": 4,
   "id": "personal-illness",
   "metadata": {},
   "outputs": [],
   "source": [
    "df= pd.read_csv('./datasets/annotations_map.csv', converters={'new_bb': from_np_array})"
   ]
  },
  {
   "cell_type": "code",
   "execution_count": 5,
   "id": "secure-utilization",
   "metadata": {},
   "outputs": [
    {
     "name": "stdout",
     "output_type": "stream",
     "text": [
      "Number of training observations:  32\n",
      "Number of validation observations:  11\n"
     ]
    }
   ],
   "source": [
    "df_train = df.reset_index()\n",
    "X = df_train[['new_path','new_bb']]\n",
    "Y = df_train['class']\n",
    "X_train, X_val, y_train, y_val = train_test_split(X, Y, test_size=0.25, random_state=42)\n",
    "print('Number of training observations: ', X_train.shape[0])\n",
    "print('Number of validation observations: ', X_val.shape[0])"
   ]
  },
  {
   "cell_type": "markdown",
   "id": "elementary-lover",
   "metadata": {},
   "source": [
    "## Build RCNN"
   ]
  },
  {
   "cell_type": "code",
   "execution_count": null,
   "id": "falling-lending",
   "metadata": {},
   "outputs": [],
   "source": []
  },
  {
   "cell_type": "markdown",
   "id": "interpreted-photograph",
   "metadata": {},
   "source": [
    "## Build YOLO"
   ]
  },
  {
   "cell_type": "code",
   "execution_count": null,
   "id": "brown-relative",
   "metadata": {},
   "outputs": [],
   "source": []
  },
  {
   "cell_type": "markdown",
   "id": "optional-replication",
   "metadata": {},
   "source": [
    "# Train the Model\n",
    "\n",
    "\n",
    "- Structured similarly to main.py file from pytorch part of A2"
   ]
  },
  {
   "cell_type": "code",
   "execution_count": 14,
   "id": "split-container",
   "metadata": {},
   "outputs": [],
   "source": [
    "## Define Hyperparameters -- Currently setting values that we can modify\n",
    "loss_type = \"l1\"\n",
    "learning_rate = 1e-4\n",
    "momentum = 0.9\n",
    "reg = 1e-2\n",
    "\n",
    "training_batch_size= 12\n",
    "validation_batch_size= 5\n",
    "\n",
    "model= \"SimpleCNN\""
   ]
  },
  {
   "cell_type": "code",
   "execution_count": 15,
   "id": "unauthorized-summary",
   "metadata": {},
   "outputs": [],
   "source": [
    "if loss_type == \"l1\":\n",
    "    criterion = nn.L1Loss()\n",
    "    \n",
    "if loss_type == \"l2\":\n",
    "    criterion = nn.MSELoss()\n",
    "    \n",
    "if model== \"SimpleCNN\":\n",
    "    model= CNN()\n",
    "    \n",
    "train_ds = WaldoDataset(X_train['new_path'],X_train['new_bb'] ,y_train)\n",
    "valid_ds = WaldoDataset(X_val['new_path'],X_val['new_bb'],y_val)\n",
    "\n",
    "train_dl = DataLoader(train_ds, batch_size=training_batch_size, shuffle=True)\n",
    "valid_dl = DataLoader(valid_ds, batch_size=validation_batch_size)\n",
    "\n",
    "optimizer = torch.optim.SGD(model.parameters(), learning_rate,\n",
    "                            momentum=momentum,\n",
    "                            weight_decay=reg)"
   ]
  },
  {
   "cell_type": "code",
   "execution_count": 16,
   "id": "ongoing-scotland",
   "metadata": {},
   "outputs": [],
   "source": [
    "def train(model, optimizer, train_dl, valid_dl, epochs=20):\n",
    "    idx = 0\n",
    "    model= model.float()\n",
    "    validation_loss_list= []\n",
    "    training_loss_list= []\n",
    "    for i in range(epochs):\n",
    "        model.train()\n",
    "        sum_loss = 0\n",
    "        for x, y_bb in train_dl:\n",
    "            x= x.float()\n",
    "            out_bb = model(x)\n",
    "            y_bb = torch.tensor(y_bb)\n",
    "            loss= criterion(out_bb, y_bb)\n",
    "            optimizer.zero_grad()\n",
    "            loss.backward()\n",
    "            optimizer.step()\n",
    "            idx += 1\n",
    "            sum_loss += loss.item()\n",
    "        train_loss = sum_loss\n",
    "        print(\" \")\n",
    "        print(\"--------------------------------------------------------\")\n",
    "        print(\"Training Loss for Epoch {0}: {1}\".format(i,train_loss))\n",
    "        valid_loss= validation_loss = validate(model= model, valid_dl= valid_dl, epoch= i)\n",
    "        training_loss_list.append(train_loss)\n",
    "        validation_loss_list.append(valid_loss)\n",
    "    \n",
    "    #plot loss curves\n",
    "    plt.plot(training_loss_list)\n",
    "    plt.title('Training Loss')\n",
    "    plt.show()\n",
    "    \n",
    "    plt.plot(validation_loss_list)\n",
    "    plt.title('Validation Loss')\n",
    "    plt.show()\n",
    "        \n",
    "        \n",
    "def validate(model, valid_dl, epoch):\n",
    "    idx= 0\n",
    "    model= model.float()\n",
    "    sum_loss= 0\n",
    "    for x, y_bb in valid_dl:\n",
    "        x= x.float()\n",
    "        out_bb= model(x)\n",
    "        y_bb= torch.tensor(y_bb)\n",
    "        loss= criterion(out_bb, y_bb)\n",
    "        idx += 1\n",
    "        sum_loss += loss.item()\n",
    "    validation_loss= sum_loss\n",
    "    print(\"Validation Loss for Epoch {0}: {1}\".format(epoch, validation_loss))\n",
    "    return validation_loss"
   ]
  },
  {
   "cell_type": "code",
   "execution_count": 17,
   "id": "conscious-potter",
   "metadata": {},
   "outputs": [
    {
     "name": "stderr",
     "output_type": "stream",
     "text": [
      "<ipython-input-16-ff36f71439cd>:12: UserWarning: To copy construct from a tensor, it is recommended to use sourceTensor.clone().detach() or sourceTensor.clone().detach().requires_grad_(True), rather than torch.tensor(sourceTensor).\n",
      "  y_bb = torch.tensor(y_bb)\n"
     ]
    },
    {
     "name": "stdout",
     "output_type": "stream",
     "text": [
      " \n",
      "--------------------------------------------------------\n",
      "Training Loss for Epoch 0: 637.2562103271484\n"
     ]
    },
    {
     "name": "stderr",
     "output_type": "stream",
     "text": [
      "<ipython-input-16-ff36f71439cd>:44: UserWarning: To copy construct from a tensor, it is recommended to use sourceTensor.clone().detach() or sourceTensor.clone().detach().requires_grad_(True), rather than torch.tensor(sourceTensor).\n",
      "  y_bb= torch.tensor(y_bb)\n"
     ]
    },
    {
     "name": "stdout",
     "output_type": "stream",
     "text": [
      "Validation Loss for Epoch 0: 616.9149627685547\n",
      " \n",
      "--------------------------------------------------------\n",
      "Training Loss for Epoch 1: 665.8790130615234\n",
      "Validation Loss for Epoch 1: 616.0878753662109\n",
      " \n",
      "--------------------------------------------------------\n",
      "Training Loss for Epoch 2: 647.3953399658203\n",
      "Validation Loss for Epoch 2: 614.9184417724609\n",
      " \n",
      "--------------------------------------------------------\n",
      "Training Loss for Epoch 3: 655.7901458740234\n",
      "Validation Loss for Epoch 3: 613.474365234375\n",
      " \n",
      "--------------------------------------------------------\n",
      "Training Loss for Epoch 4: 651.4356079101562\n",
      "Validation Loss for Epoch 4: 611.7437591552734\n",
      " \n",
      "--------------------------------------------------------\n",
      "Training Loss for Epoch 5: 655.3722686767578\n",
      "Validation Loss for Epoch 5: 609.6649322509766\n",
      " \n",
      "--------------------------------------------------------\n",
      "Training Loss for Epoch 6: 659.8548736572266\n",
      "Validation Loss for Epoch 6: 607.1369781494141\n",
      " \n",
      "--------------------------------------------------------\n",
      "Training Loss for Epoch 7: 651.9264068603516\n",
      "Validation Loss for Epoch 7: 604.0318298339844\n",
      " \n",
      "--------------------------------------------------------\n",
      "Training Loss for Epoch 8: 644.1108245849609\n",
      "Validation Loss for Epoch 8: 600.1217193603516\n",
      " \n",
      "--------------------------------------------------------\n",
      "Training Loss for Epoch 9: 633.7304840087891\n",
      "Validation Loss for Epoch 9: 595.0128784179688\n",
      " \n",
      "--------------------------------------------------------\n",
      "Training Loss for Epoch 10: 640.3217315673828\n",
      "Validation Loss for Epoch 10: 588.0908966064453\n",
      " \n",
      "--------------------------------------------------------\n",
      "Training Loss for Epoch 11: 620.903564453125\n",
      "Validation Loss for Epoch 11: 578.4969024658203\n",
      " \n",
      "--------------------------------------------------------\n",
      "Training Loss for Epoch 12: 618.3494567871094\n",
      "Validation Loss for Epoch 12: 564.8544616699219\n",
      " \n",
      "--------------------------------------------------------\n",
      "Training Loss for Epoch 13: 603.4706420898438\n",
      "Validation Loss for Epoch 13: 545.1537780761719\n",
      " \n",
      "--------------------------------------------------------\n",
      "Training Loss for Epoch 14: 570.2274017333984\n",
      "Validation Loss for Epoch 14: 515.2548370361328\n",
      " \n",
      "--------------------------------------------------------\n",
      "Training Loss for Epoch 15: 541.8536987304688\n",
      "Validation Loss for Epoch 15: 471.7362365722656\n",
      " \n",
      "--------------------------------------------------------\n",
      "Training Loss for Epoch 16: 495.7188262939453\n",
      "Validation Loss for Epoch 16: 406.92979431152344\n",
      " \n",
      "--------------------------------------------------------\n",
      "Training Loss for Epoch 17: 439.13602447509766\n",
      "Validation Loss for Epoch 17: 351.4301986694336\n",
      " \n",
      "--------------------------------------------------------\n",
      "Training Loss for Epoch 18: 388.39698028564453\n",
      "Validation Loss for Epoch 18: 310.43009185791016\n",
      " \n",
      "--------------------------------------------------------\n",
      "Training Loss for Epoch 19: 365.3948516845703\n",
      "Validation Loss for Epoch 19: 327.9208068847656\n"
     ]
    },
    {
     "data": {
      "image/png": "[encoded data removed]",
      "text/plain": [
       "<Figure size 432x288 with 1 Axes>"
      ]
     },
     "metadata": {
      "needs_background": "light"
     },
     "output_type": "display_data"
    },
    {
     "data": {
      "image/png": "[encoded data removed]",
      "text/plain": [
       "<Figure size 432x288 with 1 Axes>"
      ]
     },
     "metadata": {
      "needs_background": "light"
     },
     "output_type": "display_data"
    }
   ],
   "source": [
    "train(model= model, optimizer= optimizer, train_dl= train_dl, valid_dl=valid_dl, epochs= 20)"
   ]
  },
  {
   "cell_type": "code",
   "execution_count": null,
   "id": "black-reporter",
   "metadata": {},
   "outputs": [],
   "source": []
  },
  {
   "cell_type": "code",
   "execution_count": null,
   "id": "fixed-personality",
   "metadata": {},
   "outputs": [],
   "source": []
  }
 ],
 "metadata": {
  "kernelspec": {
   "display_name": "Python 3",
   "language": "python",
   "name": "python3"
  },
  "language_info": {
   "codemirror_mode": {
    "name": "ipython",
    "version": 3
   },
   "file_extension": ".py",
   "mimetype": "text/x-python",
   "name": "python",
   "nbconvert_exporter": "python",
   "pygments_lexer": "ipython3",
   "version": "3.8.5"
  }
 },
 "nbformat": 4,
 "nbformat_minor": 5
}
